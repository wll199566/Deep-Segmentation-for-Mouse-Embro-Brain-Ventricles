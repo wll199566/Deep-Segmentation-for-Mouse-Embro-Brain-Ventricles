{
 "cells": [
  {
   "cell_type": "code",
   "execution_count": null,
   "metadata": {},
   "outputs": [],
   "source": [
    "from torch.utils.data import Dataset, DataLoader\n",
    "\n",
    "class Mouse_sub_volumes(Dataset):\n",
    "    \"\"\"Mouse sub-volumes BV dataset.\"\"\"\n",
    "\n",
    "    def __init__(self, all_whole_volumes, all_idx, transform=None):\n",
    "        \"\"\"\n",
    "        Args:\n",
    "            all_whole_volumes: Contain all the padded whole BV volumes as a dic\n",
    "            transform (callable, optional): Optional transform to be applied\n",
    "                on a sample.\n",
    "        \"\"\"\n",
    "        self.whole_volumes = all_whole_volumes\n",
    "        self.idx = all_idx\n",
    "        self.transform = transform\n",
    "    def __len__(self):\n",
    "        return len(self.idx)\n",
    "\n",
    "    def __getitem__(self, num):\n",
    "        #idx [0] dictionary index, [1] label(0 or 1), [2] x, y, z sub-volumes index\n",
    "        box_size=64\n",
    "        current_img = self.idx[num][0]\n",
    "        label = self.idx[num][1]\n",
    "        x, y, z = self.idx[num][2]\n",
    "        img = self.whole_volumes[current_img][x-box_size:x,\n",
    "                                             y-box_size:y,\n",
    "                                             z-box_size:z]\n",
    "        img = img[np.newaxis,...]\n",
    "        sample = {'image': img, 'label': label}\n",
    "        return sample"
   ]
  }
 ],
 "metadata": {
  "kernelspec": {
   "display_name": "Python 3",
   "language": "python",
   "name": "python3"
  },
  "language_info": {
   "codemirror_mode": {
    "name": "ipython",
    "version": 3
   },
   "file_extension": ".py",
   "mimetype": "text/x-python",
   "name": "python",
   "nbconvert_exporter": "python",
   "pygments_lexer": "ipython3",
   "version": "3.6.3"
  }
 },
 "nbformat": 4,
 "nbformat_minor": 2
}
